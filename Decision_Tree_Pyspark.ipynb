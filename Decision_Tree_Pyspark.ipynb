{
  "nbformat": 4,
  "nbformat_minor": 0,
  "metadata": {
    "colab": {
      "name": "Decision_Tree_Pyspark.ipynb",
      "provenance": []
    },
    "kernelspec": {
      "name": "python3",
      "display_name": "Python 3"
    },
    "language_info": {
      "name": "python"
    }
  },
  "cells": [
    {
      "cell_type": "code",
      "metadata": {
        "colab": {
          "base_uri": "https://localhost:8080/"
        },
        "id": "JAtaXWkbdQch",
        "outputId": "0a46584d-66ed-441f-a789-449a5ca48aed"
      },
      "source": [
        "pip install pyspark"
      ],
      "execution_count": 20,
      "outputs": [
        {
          "output_type": "stream",
          "text": [
            "Requirement already satisfied: pyspark in /usr/local/lib/python3.7/dist-packages (3.1.1)\n",
            "Requirement already satisfied: py4j==0.10.9 in /usr/local/lib/python3.7/dist-packages (from pyspark) (0.10.9)\n"
          ],
          "name": "stdout"
        }
      ]
    },
    {
      "cell_type": "code",
      "metadata": {
        "id": "ZorxiYBWgden"
      },
      "source": [
        "from pyspark.sql import SparkSession\n",
        "spark = SparkSession.builder.appName('ml-diabetes').getOrCreate()"
      ],
      "execution_count": 21,
      "outputs": []
    },
    {
      "cell_type": "code",
      "metadata": {
        "colab": {
          "base_uri": "https://localhost:8080/"
        },
        "id": "2_6a0Nyog2hD",
        "outputId": "1bacdc92-c031-40ee-dacb-8e39c0eb762d"
      },
      "source": [
        "df = spark.read.csv('/content/diabetes.csv', header = True, inferSchema = True)\n",
        "df.printSchema()"
      ],
      "execution_count": 22,
      "outputs": [
        {
          "output_type": "stream",
          "text": [
            "root\n",
            " |-- Pregnancies: integer (nullable = true)\n",
            " |-- Glucose: integer (nullable = true)\n",
            " |-- BloodPressure: integer (nullable = true)\n",
            " |-- SkinThickness: integer (nullable = true)\n",
            " |-- Insulin: integer (nullable = true)\n",
            " |-- BMI: double (nullable = true)\n",
            " |-- DiabetesPedigreeFunction: double (nullable = true)\n",
            " |-- Age: integer (nullable = true)\n",
            " |-- Outcome: integer (nullable = true)\n",
            "\n"
          ],
          "name": "stdout"
        }
      ]
    },
    {
      "cell_type": "markdown",
      "metadata": {
        "id": "iJf8KJfdhTAz"
      },
      "source": [
        "The datasets consists of several medical predictor variables and one target variable, Outcome. Predictor variables includes the number of pregnancies the patient has had, their BMI, insulin level, age, and so on.\n",
        "\n",
        "Input variables: Glucose,BloodPressure,BMI,Age,Pregnancies,Insulin,SkinThikness,DiabetesPedigreeFunction.\n",
        "\n",
        "Output variables: Outcome."
      ]
    },
    {
      "cell_type": "code",
      "metadata": {
        "colab": {
          "base_uri": "https://localhost:8080/",
          "height": 314
        },
        "id": "21CoLfZGhTc5",
        "outputId": "a4f17220-a974-4c9a-a660-b24e04670e56"
      },
      "source": [
        "import pandas as pd\n",
        "\n",
        "pd.DataFrame(df.take(5), columns=df.columns).transpose()"
      ],
      "execution_count": 23,
      "outputs": [
        {
          "output_type": "execute_result",
          "data": {
            "text/html": [
              "<div>\n",
              "<style scoped>\n",
              "    .dataframe tbody tr th:only-of-type {\n",
              "        vertical-align: middle;\n",
              "    }\n",
              "\n",
              "    .dataframe tbody tr th {\n",
              "        vertical-align: top;\n",
              "    }\n",
              "\n",
              "    .dataframe thead th {\n",
              "        text-align: right;\n",
              "    }\n",
              "</style>\n",
              "<table border=\"1\" class=\"dataframe\">\n",
              "  <thead>\n",
              "    <tr style=\"text-align: right;\">\n",
              "      <th></th>\n",
              "      <th>0</th>\n",
              "      <th>1</th>\n",
              "      <th>2</th>\n",
              "      <th>3</th>\n",
              "      <th>4</th>\n",
              "    </tr>\n",
              "  </thead>\n",
              "  <tbody>\n",
              "    <tr>\n",
              "      <th>Pregnancies</th>\n",
              "      <td>6.000</td>\n",
              "      <td>1.000</td>\n",
              "      <td>8.000</td>\n",
              "      <td>1.000</td>\n",
              "      <td>0.000</td>\n",
              "    </tr>\n",
              "    <tr>\n",
              "      <th>Glucose</th>\n",
              "      <td>148.000</td>\n",
              "      <td>85.000</td>\n",
              "      <td>183.000</td>\n",
              "      <td>89.000</td>\n",
              "      <td>137.000</td>\n",
              "    </tr>\n",
              "    <tr>\n",
              "      <th>BloodPressure</th>\n",
              "      <td>72.000</td>\n",
              "      <td>66.000</td>\n",
              "      <td>64.000</td>\n",
              "      <td>66.000</td>\n",
              "      <td>40.000</td>\n",
              "    </tr>\n",
              "    <tr>\n",
              "      <th>SkinThickness</th>\n",
              "      <td>35.000</td>\n",
              "      <td>29.000</td>\n",
              "      <td>0.000</td>\n",
              "      <td>23.000</td>\n",
              "      <td>35.000</td>\n",
              "    </tr>\n",
              "    <tr>\n",
              "      <th>Insulin</th>\n",
              "      <td>0.000</td>\n",
              "      <td>0.000</td>\n",
              "      <td>0.000</td>\n",
              "      <td>94.000</td>\n",
              "      <td>168.000</td>\n",
              "    </tr>\n",
              "    <tr>\n",
              "      <th>BMI</th>\n",
              "      <td>33.600</td>\n",
              "      <td>26.600</td>\n",
              "      <td>23.300</td>\n",
              "      <td>28.100</td>\n",
              "      <td>43.100</td>\n",
              "    </tr>\n",
              "    <tr>\n",
              "      <th>DiabetesPedigreeFunction</th>\n",
              "      <td>0.627</td>\n",
              "      <td>0.351</td>\n",
              "      <td>0.672</td>\n",
              "      <td>0.167</td>\n",
              "      <td>2.288</td>\n",
              "    </tr>\n",
              "    <tr>\n",
              "      <th>Age</th>\n",
              "      <td>50.000</td>\n",
              "      <td>31.000</td>\n",
              "      <td>32.000</td>\n",
              "      <td>21.000</td>\n",
              "      <td>33.000</td>\n",
              "    </tr>\n",
              "    <tr>\n",
              "      <th>Outcome</th>\n",
              "      <td>1.000</td>\n",
              "      <td>0.000</td>\n",
              "      <td>1.000</td>\n",
              "      <td>0.000</td>\n",
              "      <td>1.000</td>\n",
              "    </tr>\n",
              "  </tbody>\n",
              "</table>\n",
              "</div>"
            ],
            "text/plain": [
              "                                0       1        2       3        4\n",
              "Pregnancies                 6.000   1.000    8.000   1.000    0.000\n",
              "Glucose                   148.000  85.000  183.000  89.000  137.000\n",
              "BloodPressure              72.000  66.000   64.000  66.000   40.000\n",
              "SkinThickness              35.000  29.000    0.000  23.000   35.000\n",
              "Insulin                     0.000   0.000    0.000  94.000  168.000\n",
              "BMI                        33.600  26.600   23.300  28.100   43.100\n",
              "DiabetesPedigreeFunction    0.627   0.351    0.672   0.167    2.288\n",
              "Age                        50.000  31.000   32.000  21.000   33.000\n",
              "Outcome                     1.000   0.000    1.000   0.000    1.000"
            ]
          },
          "metadata": {
            "tags": []
          },
          "execution_count": 23
        }
      ]
    },
    {
      "cell_type": "code",
      "metadata": {
        "colab": {
          "base_uri": "https://localhost:8080/"
        },
        "id": "CLybp7yknxH3",
        "outputId": "e41edc13-b625-4f19-c386-0b3be4a67f08"
      },
      "source": [
        "df.show()"
      ],
      "execution_count": 24,
      "outputs": [
        {
          "output_type": "stream",
          "text": [
            "+-----------+-------+-------------+-------------+-------+----+------------------------+---+-------+\n",
            "|Pregnancies|Glucose|BloodPressure|SkinThickness|Insulin| BMI|DiabetesPedigreeFunction|Age|Outcome|\n",
            "+-----------+-------+-------------+-------------+-------+----+------------------------+---+-------+\n",
            "|          6|    148|           72|           35|      0|33.6|                   0.627| 50|      1|\n",
            "|          1|     85|           66|           29|      0|26.6|                   0.351| 31|      0|\n",
            "|          8|    183|           64|            0|      0|23.3|                   0.672| 32|      1|\n",
            "|          1|     89|           66|           23|     94|28.1|                   0.167| 21|      0|\n",
            "|          0|    137|           40|           35|    168|43.1|                   2.288| 33|      1|\n",
            "|          5|    116|           74|            0|      0|25.6|                   0.201| 30|      0|\n",
            "|          3|     78|           50|           32|     88|31.0|                   0.248| 26|      1|\n",
            "|         10|    115|            0|            0|      0|35.3|                   0.134| 29|      0|\n",
            "|          2|    197|           70|           45|    543|30.5|                   0.158| 53|      1|\n",
            "|          8|    125|           96|            0|      0| 0.0|                   0.232| 54|      1|\n",
            "|          4|    110|           92|            0|      0|37.6|                   0.191| 30|      0|\n",
            "|         10|    168|           74|            0|      0|38.0|                   0.537| 34|      1|\n",
            "|         10|    139|           80|            0|      0|27.1|                   1.441| 57|      0|\n",
            "|          1|    189|           60|           23|    846|30.1|                   0.398| 59|      1|\n",
            "|          5|    166|           72|           19|    175|25.8|                   0.587| 51|      1|\n",
            "|          7|    100|            0|            0|      0|30.0|                   0.484| 32|      1|\n",
            "|          0|    118|           84|           47|    230|45.8|                   0.551| 31|      1|\n",
            "|          7|    107|           74|            0|      0|29.6|                   0.254| 31|      1|\n",
            "|          1|    103|           30|           38|     83|43.3|                   0.183| 33|      0|\n",
            "|          1|    115|           70|           30|     96|34.6|                   0.529| 32|      1|\n",
            "+-----------+-------+-------------+-------------+-------+----+------------------------+---+-------+\n",
            "only showing top 20 rows\n",
            "\n"
          ],
          "name": "stdout"
        }
      ]
    },
    {
      "cell_type": "code",
      "metadata": {
        "colab": {
          "base_uri": "https://localhost:8080/",
          "height": 402
        },
        "id": "d3T9mrhOn19-",
        "outputId": "a88132ea-771f-4815-999c-5c3de1365a1c"
      },
      "source": [
        "df.toPandas()"
      ],
      "execution_count": 25,
      "outputs": [
        {
          "output_type": "execute_result",
          "data": {
            "text/html": [
              "<div>\n",
              "<style scoped>\n",
              "    .dataframe tbody tr th:only-of-type {\n",
              "        vertical-align: middle;\n",
              "    }\n",
              "\n",
              "    .dataframe tbody tr th {\n",
              "        vertical-align: top;\n",
              "    }\n",
              "\n",
              "    .dataframe thead th {\n",
              "        text-align: right;\n",
              "    }\n",
              "</style>\n",
              "<table border=\"1\" class=\"dataframe\">\n",
              "  <thead>\n",
              "    <tr style=\"text-align: right;\">\n",
              "      <th></th>\n",
              "      <th>Pregnancies</th>\n",
              "      <th>Glucose</th>\n",
              "      <th>BloodPressure</th>\n",
              "      <th>SkinThickness</th>\n",
              "      <th>Insulin</th>\n",
              "      <th>BMI</th>\n",
              "      <th>DiabetesPedigreeFunction</th>\n",
              "      <th>Age</th>\n",
              "      <th>Outcome</th>\n",
              "    </tr>\n",
              "  </thead>\n",
              "  <tbody>\n",
              "    <tr>\n",
              "      <th>0</th>\n",
              "      <td>6</td>\n",
              "      <td>148</td>\n",
              "      <td>72</td>\n",
              "      <td>35</td>\n",
              "      <td>0</td>\n",
              "      <td>33.6</td>\n",
              "      <td>0.627</td>\n",
              "      <td>50</td>\n",
              "      <td>1</td>\n",
              "    </tr>\n",
              "    <tr>\n",
              "      <th>1</th>\n",
              "      <td>1</td>\n",
              "      <td>85</td>\n",
              "      <td>66</td>\n",
              "      <td>29</td>\n",
              "      <td>0</td>\n",
              "      <td>26.6</td>\n",
              "      <td>0.351</td>\n",
              "      <td>31</td>\n",
              "      <td>0</td>\n",
              "    </tr>\n",
              "    <tr>\n",
              "      <th>2</th>\n",
              "      <td>8</td>\n",
              "      <td>183</td>\n",
              "      <td>64</td>\n",
              "      <td>0</td>\n",
              "      <td>0</td>\n",
              "      <td>23.3</td>\n",
              "      <td>0.672</td>\n",
              "      <td>32</td>\n",
              "      <td>1</td>\n",
              "    </tr>\n",
              "    <tr>\n",
              "      <th>3</th>\n",
              "      <td>1</td>\n",
              "      <td>89</td>\n",
              "      <td>66</td>\n",
              "      <td>23</td>\n",
              "      <td>94</td>\n",
              "      <td>28.1</td>\n",
              "      <td>0.167</td>\n",
              "      <td>21</td>\n",
              "      <td>0</td>\n",
              "    </tr>\n",
              "    <tr>\n",
              "      <th>4</th>\n",
              "      <td>0</td>\n",
              "      <td>137</td>\n",
              "      <td>40</td>\n",
              "      <td>35</td>\n",
              "      <td>168</td>\n",
              "      <td>43.1</td>\n",
              "      <td>2.288</td>\n",
              "      <td>33</td>\n",
              "      <td>1</td>\n",
              "    </tr>\n",
              "    <tr>\n",
              "      <th>...</th>\n",
              "      <td>...</td>\n",
              "      <td>...</td>\n",
              "      <td>...</td>\n",
              "      <td>...</td>\n",
              "      <td>...</td>\n",
              "      <td>...</td>\n",
              "      <td>...</td>\n",
              "      <td>...</td>\n",
              "      <td>...</td>\n",
              "    </tr>\n",
              "    <tr>\n",
              "      <th>763</th>\n",
              "      <td>10</td>\n",
              "      <td>101</td>\n",
              "      <td>76</td>\n",
              "      <td>48</td>\n",
              "      <td>180</td>\n",
              "      <td>32.9</td>\n",
              "      <td>0.171</td>\n",
              "      <td>63</td>\n",
              "      <td>0</td>\n",
              "    </tr>\n",
              "    <tr>\n",
              "      <th>764</th>\n",
              "      <td>2</td>\n",
              "      <td>122</td>\n",
              "      <td>70</td>\n",
              "      <td>27</td>\n",
              "      <td>0</td>\n",
              "      <td>36.8</td>\n",
              "      <td>0.340</td>\n",
              "      <td>27</td>\n",
              "      <td>0</td>\n",
              "    </tr>\n",
              "    <tr>\n",
              "      <th>765</th>\n",
              "      <td>5</td>\n",
              "      <td>121</td>\n",
              "      <td>72</td>\n",
              "      <td>23</td>\n",
              "      <td>112</td>\n",
              "      <td>26.2</td>\n",
              "      <td>0.245</td>\n",
              "      <td>30</td>\n",
              "      <td>0</td>\n",
              "    </tr>\n",
              "    <tr>\n",
              "      <th>766</th>\n",
              "      <td>1</td>\n",
              "      <td>126</td>\n",
              "      <td>60</td>\n",
              "      <td>0</td>\n",
              "      <td>0</td>\n",
              "      <td>30.1</td>\n",
              "      <td>0.349</td>\n",
              "      <td>47</td>\n",
              "      <td>1</td>\n",
              "    </tr>\n",
              "    <tr>\n",
              "      <th>767</th>\n",
              "      <td>1</td>\n",
              "      <td>93</td>\n",
              "      <td>70</td>\n",
              "      <td>31</td>\n",
              "      <td>0</td>\n",
              "      <td>30.4</td>\n",
              "      <td>0.315</td>\n",
              "      <td>23</td>\n",
              "      <td>0</td>\n",
              "    </tr>\n",
              "  </tbody>\n",
              "</table>\n",
              "<p>768 rows × 9 columns</p>\n",
              "</div>"
            ],
            "text/plain": [
              "     Pregnancies  Glucose  ...  Age  Outcome\n",
              "0              6      148  ...   50        1\n",
              "1              1       85  ...   31        0\n",
              "2              8      183  ...   32        1\n",
              "3              1       89  ...   21        0\n",
              "4              0      137  ...   33        1\n",
              "..           ...      ...  ...  ...      ...\n",
              "763           10      101  ...   63        0\n",
              "764            2      122  ...   27        0\n",
              "765            5      121  ...   30        0\n",
              "766            1      126  ...   47        1\n",
              "767            1       93  ...   23        0\n",
              "\n",
              "[768 rows x 9 columns]"
            ]
          },
          "metadata": {
            "tags": []
          },
          "execution_count": 25
        }
      ]
    },
    {
      "cell_type": "code",
      "metadata": {
        "colab": {
          "base_uri": "https://localhost:8080/",
          "height": 106
        },
        "id": "Fc980GaHoT7K",
        "outputId": "f34b8060-488f-4bf0-9943-c68b5846190c"
      },
      "source": [
        "df.groupby('Outcome').count().toPandas()"
      ],
      "execution_count": 26,
      "outputs": [
        {
          "output_type": "execute_result",
          "data": {
            "text/html": [
              "<div>\n",
              "<style scoped>\n",
              "    .dataframe tbody tr th:only-of-type {\n",
              "        vertical-align: middle;\n",
              "    }\n",
              "\n",
              "    .dataframe tbody tr th {\n",
              "        vertical-align: top;\n",
              "    }\n",
              "\n",
              "    .dataframe thead th {\n",
              "        text-align: right;\n",
              "    }\n",
              "</style>\n",
              "<table border=\"1\" class=\"dataframe\">\n",
              "  <thead>\n",
              "    <tr style=\"text-align: right;\">\n",
              "      <th></th>\n",
              "      <th>Outcome</th>\n",
              "      <th>count</th>\n",
              "    </tr>\n",
              "  </thead>\n",
              "  <tbody>\n",
              "    <tr>\n",
              "      <th>0</th>\n",
              "      <td>1</td>\n",
              "      <td>268</td>\n",
              "    </tr>\n",
              "    <tr>\n",
              "      <th>1</th>\n",
              "      <td>0</td>\n",
              "      <td>500</td>\n",
              "    </tr>\n",
              "  </tbody>\n",
              "</table>\n",
              "</div>"
            ],
            "text/plain": [
              "   Outcome  count\n",
              "0        1    268\n",
              "1        0    500"
            ]
          },
          "metadata": {
            "tags": []
          },
          "execution_count": 26
        }
      ]
    },
    {
      "cell_type": "code",
      "metadata": {
        "id": "03ghvfHhoWBK"
      },
      "source": [
        "# making numerical features\n",
        "numeric_features = [t[0] for t in df.dtypes if t[1] == 'int']"
      ],
      "execution_count": 27,
      "outputs": []
    },
    {
      "cell_type": "code",
      "metadata": {
        "colab": {
          "base_uri": "https://localhost:8080/"
        },
        "id": "ygJ8qxmooYLz",
        "outputId": "01b688d7-a229-49f1-c68f-60edbd3ff243"
      },
      "source": [
        "numeric_features"
      ],
      "execution_count": 28,
      "outputs": [
        {
          "output_type": "execute_result",
          "data": {
            "text/plain": [
              "['Pregnancies',\n",
              " 'Glucose',\n",
              " 'BloodPressure',\n",
              " 'SkinThickness',\n",
              " 'Insulin',\n",
              " 'Age',\n",
              " 'Outcome']"
            ]
          },
          "metadata": {
            "tags": []
          },
          "execution_count": 28
        }
      ]
    },
    {
      "cell_type": "code",
      "metadata": {
        "colab": {
          "base_uri": "https://localhost:8080/",
          "height": 284
        },
        "id": "Kdq_jKulodQt",
        "outputId": "aaedd55e-f2f8-4d52-eb8e-1998d3816c63"
      },
      "source": [
        "df.select(numeric_features).describe().toPandas().transpose()"
      ],
      "execution_count": 29,
      "outputs": [
        {
          "output_type": "execute_result",
          "data": {
            "text/html": [
              "<div>\n",
              "<style scoped>\n",
              "    .dataframe tbody tr th:only-of-type {\n",
              "        vertical-align: middle;\n",
              "    }\n",
              "\n",
              "    .dataframe tbody tr th {\n",
              "        vertical-align: top;\n",
              "    }\n",
              "\n",
              "    .dataframe thead th {\n",
              "        text-align: right;\n",
              "    }\n",
              "</style>\n",
              "<table border=\"1\" class=\"dataframe\">\n",
              "  <thead>\n",
              "    <tr style=\"text-align: right;\">\n",
              "      <th></th>\n",
              "      <th>0</th>\n",
              "      <th>1</th>\n",
              "      <th>2</th>\n",
              "      <th>3</th>\n",
              "      <th>4</th>\n",
              "    </tr>\n",
              "  </thead>\n",
              "  <tbody>\n",
              "    <tr>\n",
              "      <th>summary</th>\n",
              "      <td>count</td>\n",
              "      <td>mean</td>\n",
              "      <td>stddev</td>\n",
              "      <td>min</td>\n",
              "      <td>max</td>\n",
              "    </tr>\n",
              "    <tr>\n",
              "      <th>Pregnancies</th>\n",
              "      <td>768</td>\n",
              "      <td>3.8450520833333335</td>\n",
              "      <td>3.36957806269887</td>\n",
              "      <td>0</td>\n",
              "      <td>17</td>\n",
              "    </tr>\n",
              "    <tr>\n",
              "      <th>Glucose</th>\n",
              "      <td>768</td>\n",
              "      <td>120.89453125</td>\n",
              "      <td>31.97261819513622</td>\n",
              "      <td>0</td>\n",
              "      <td>199</td>\n",
              "    </tr>\n",
              "    <tr>\n",
              "      <th>BloodPressure</th>\n",
              "      <td>768</td>\n",
              "      <td>69.10546875</td>\n",
              "      <td>19.355807170644777</td>\n",
              "      <td>0</td>\n",
              "      <td>122</td>\n",
              "    </tr>\n",
              "    <tr>\n",
              "      <th>SkinThickness</th>\n",
              "      <td>768</td>\n",
              "      <td>20.536458333333332</td>\n",
              "      <td>15.952217567727642</td>\n",
              "      <td>0</td>\n",
              "      <td>99</td>\n",
              "    </tr>\n",
              "    <tr>\n",
              "      <th>Insulin</th>\n",
              "      <td>768</td>\n",
              "      <td>79.79947916666667</td>\n",
              "      <td>115.24400235133803</td>\n",
              "      <td>0</td>\n",
              "      <td>846</td>\n",
              "    </tr>\n",
              "    <tr>\n",
              "      <th>Age</th>\n",
              "      <td>768</td>\n",
              "      <td>33.240885416666664</td>\n",
              "      <td>11.760231540678689</td>\n",
              "      <td>21</td>\n",
              "      <td>81</td>\n",
              "    </tr>\n",
              "    <tr>\n",
              "      <th>Outcome</th>\n",
              "      <td>768</td>\n",
              "      <td>0.3489583333333333</td>\n",
              "      <td>0.476951377242799</td>\n",
              "      <td>0</td>\n",
              "      <td>1</td>\n",
              "    </tr>\n",
              "  </tbody>\n",
              "</table>\n",
              "</div>"
            ],
            "text/plain": [
              "                   0                   1                   2    3    4\n",
              "summary        count                mean              stddev  min  max\n",
              "Pregnancies      768  3.8450520833333335    3.36957806269887    0   17\n",
              "Glucose          768        120.89453125   31.97261819513622    0  199\n",
              "BloodPressure    768         69.10546875  19.355807170644777    0  122\n",
              "SkinThickness    768  20.536458333333332  15.952217567727642    0   99\n",
              "Insulin          768   79.79947916666667  115.24400235133803    0  846\n",
              "Age              768  33.240885416666664  11.760231540678689   21   81\n",
              "Outcome          768  0.3489583333333333   0.476951377242799    0    1"
            ]
          },
          "metadata": {
            "tags": []
          },
          "execution_count": 29
        }
      ]
    },
    {
      "cell_type": "code",
      "metadata": {
        "colab": {
          "base_uri": "https://localhost:8080/",
          "height": 541
        },
        "id": "KKlR-iu7ogjE",
        "outputId": "405bb3fb-f3b7-4dd5-9091-cb4c722f9228"
      },
      "source": [
        "from pandas.plotting import scatter_matrix\n",
        "numeric_data = df.select(numeric_features).toPandas()\n",
        "\n",
        "axs = scatter_matrix(numeric_data, figsize=(8, 8));\n",
        "\n",
        "# Rotate axis labels and remove axis ticks\n",
        "n = len(numeric_data.columns)\n",
        "for i in range(n):\n",
        "    v = axs[i, 0]\n",
        "    v.yaxis.label.set_rotation(0)\n",
        "    v.yaxis.label.set_ha('right')\n",
        "    v.set_yticks(())\n",
        "    h = axs[n-1, i]\n",
        "    h.xaxis.label.set_rotation(90)\n",
        "    h.set_xticks(())"
      ],
      "execution_count": 30,
      "outputs": [
        {
          "output_type": "display_data",
          "data": {
            "image/png": "[encoded data removed]",
            "text/plain": [
              "<Figure size 576x576 with 49 Axes>"
            ]
          },
          "metadata": {
            "tags": [],
            "needs_background": "light"
          }
        }
      ]
    },
    {
      "cell_type": "code",
      "metadata": {
        "colab": {
          "base_uri": "https://localhost:8080/"
        },
        "id": "EBnUScEUsYpd",
        "outputId": "d069ab2b-8222-4f1b-cc1e-da5c8bc1f0e3"
      },
      "source": [
        "from pyspark.sql.functions import isnull, when, count, col\n",
        "\n",
        "df.select([count(when(isnull(c), c)).alias(c) for c in df.columns]).show()"
      ],
      "execution_count": 31,
      "outputs": [
        {
          "output_type": "stream",
          "text": [
            "+-----------+-------+-------------+-------------+-------+---+------------------------+---+-------+\n",
            "|Pregnancies|Glucose|BloodPressure|SkinThickness|Insulin|BMI|DiabetesPedigreeFunction|Age|Outcome|\n",
            "+-----------+-------+-------------+-------------+-------+---+------------------------+---+-------+\n",
            "|          0|      0|            0|            0|      0|  0|                       0|  0|      0|\n",
            "+-----------+-------+-------------+-------------+-------+---+------------------------+---+-------+\n",
            "\n"
          ],
          "name": "stdout"
        }
      ]
    },
    {
      "cell_type": "markdown",
      "metadata": {
        "id": "xH-QMNgiE8V5"
      },
      "source": [
        " That's great in this datasets haven't any missing values."
      ]
    },
    {
      "cell_type": "code",
      "metadata": {
        "id": "2vbFtNsmsbxV"
      },
      "source": [
        "dataset = df.drop('SkinThickness')\n"
      ],
      "execution_count": 51,
      "outputs": []
    },
    {
      "cell_type": "code",
      "metadata": {
        "id": "QnFiwWx9IzVj"
      },
      "source": [
        "dataset = dataset.drop('Insulin')\n"
      ],
      "execution_count": 52,
      "outputs": []
    },
    {
      "cell_type": "code",
      "metadata": {
        "colab": {
          "base_uri": "https://localhost:8080/"
        },
        "id": "p0k7VSELI_0B",
        "outputId": "7dd2eb2e-1835-4d36-a5df-28109c40a98f"
      },
      "source": [
        "dataset.show()"
      ],
      "execution_count": 53,
      "outputs": [
        {
          "output_type": "stream",
          "text": [
            "+-----------+-------+-------------+----+------------------------+---+-------+\n",
            "|Pregnancies|Glucose|BloodPressure| BMI|DiabetesPedigreeFunction|Age|Outcome|\n",
            "+-----------+-------+-------------+----+------------------------+---+-------+\n",
            "|          6|    148|           72|33.6|                   0.627| 50|      1|\n",
            "|          1|     85|           66|26.6|                   0.351| 31|      0|\n",
            "|          8|    183|           64|23.3|                   0.672| 32|      1|\n",
            "|          1|     89|           66|28.1|                   0.167| 21|      0|\n",
            "|          0|    137|           40|43.1|                   2.288| 33|      1|\n",
            "|          5|    116|           74|25.6|                   0.201| 30|      0|\n",
            "|          3|     78|           50|31.0|                   0.248| 26|      1|\n",
            "|         10|    115|            0|35.3|                   0.134| 29|      0|\n",
            "|          2|    197|           70|30.5|                   0.158| 53|      1|\n",
            "|          8|    125|           96| 0.0|                   0.232| 54|      1|\n",
            "|          4|    110|           92|37.6|                   0.191| 30|      0|\n",
            "|         10|    168|           74|38.0|                   0.537| 34|      1|\n",
            "|         10|    139|           80|27.1|                   1.441| 57|      0|\n",
            "|          1|    189|           60|30.1|                   0.398| 59|      1|\n",
            "|          5|    166|           72|25.8|                   0.587| 51|      1|\n",
            "|          7|    100|            0|30.0|                   0.484| 32|      1|\n",
            "|          0|    118|           84|45.8|                   0.551| 31|      1|\n",
            "|          7|    107|           74|29.6|                   0.254| 31|      1|\n",
            "|          1|    103|           30|43.3|                   0.183| 33|      0|\n",
            "|          1|    115|           70|34.6|                   0.529| 32|      1|\n",
            "+-----------+-------+-------------+----+------------------------+---+-------+\n",
            "only showing top 20 rows\n",
            "\n"
          ],
          "name": "stdout"
        }
      ]
    },
    {
      "cell_type": "code",
      "metadata": {
        "colab": {
          "base_uri": "https://localhost:8080/"
        },
        "id": "-mBPGPTPI2L5",
        "outputId": "8c839d09-069b-4f25-d530-5387061aceda"
      },
      "source": [
        "dataset_new = dataset.drop('DiabetesPedigreeFunction')\n",
        "dataset_new.show()"
      ],
      "execution_count": 55,
      "outputs": [
        {
          "output_type": "stream",
          "text": [
            "+-----------+-------+-------------+----+---+-------+\n",
            "|Pregnancies|Glucose|BloodPressure| BMI|Age|Outcome|\n",
            "+-----------+-------+-------------+----+---+-------+\n",
            "|          6|    148|           72|33.6| 50|      1|\n",
            "|          1|     85|           66|26.6| 31|      0|\n",
            "|          8|    183|           64|23.3| 32|      1|\n",
            "|          1|     89|           66|28.1| 21|      0|\n",
            "|          0|    137|           40|43.1| 33|      1|\n",
            "|          5|    116|           74|25.6| 30|      0|\n",
            "|          3|     78|           50|31.0| 26|      1|\n",
            "|         10|    115|            0|35.3| 29|      0|\n",
            "|          2|    197|           70|30.5| 53|      1|\n",
            "|          8|    125|           96| 0.0| 54|      1|\n",
            "|          4|    110|           92|37.6| 30|      0|\n",
            "|         10|    168|           74|38.0| 34|      1|\n",
            "|         10|    139|           80|27.1| 57|      0|\n",
            "|          1|    189|           60|30.1| 59|      1|\n",
            "|          5|    166|           72|25.8| 51|      1|\n",
            "|          7|    100|            0|30.0| 32|      1|\n",
            "|          0|    118|           84|45.8| 31|      1|\n",
            "|          7|    107|           74|29.6| 31|      1|\n",
            "|          1|    103|           30|43.3| 33|      0|\n",
            "|          1|    115|           70|34.6| 32|      1|\n",
            "+-----------+-------+-------------+----+---+-------+\n",
            "only showing top 20 rows\n",
            "\n"
          ],
          "name": "stdout"
        }
      ]
    },
    {
      "cell_type": "code",
      "metadata": {
        "colab": {
          "base_uri": "https://localhost:8080/"
        },
        "id": "_R9KuGgxI4RZ",
        "outputId": "ebf50f8a-21ac-4560-cc1e-63f7e2e84b0f"
      },
      "source": [
        "dataset_final = dataset_new.drop('Pregnancies')\n",
        "\n",
        "dataset_final.show()"
      ],
      "execution_count": 57,
      "outputs": [
        {
          "output_type": "stream",
          "text": [
            "+-------+-------------+----+---+-------+\n",
            "|Glucose|BloodPressure| BMI|Age|Outcome|\n",
            "+-------+-------------+----+---+-------+\n",
            "|    148|           72|33.6| 50|      1|\n",
            "|     85|           66|26.6| 31|      0|\n",
            "|    183|           64|23.3| 32|      1|\n",
            "|     89|           66|28.1| 21|      0|\n",
            "|    137|           40|43.1| 33|      1|\n",
            "|    116|           74|25.6| 30|      0|\n",
            "|     78|           50|31.0| 26|      1|\n",
            "|    115|            0|35.3| 29|      0|\n",
            "|    197|           70|30.5| 53|      1|\n",
            "|    125|           96| 0.0| 54|      1|\n",
            "|    110|           92|37.6| 30|      0|\n",
            "|    168|           74|38.0| 34|      1|\n",
            "|    139|           80|27.1| 57|      0|\n",
            "|    189|           60|30.1| 59|      1|\n",
            "|    166|           72|25.8| 51|      1|\n",
            "|    100|            0|30.0| 32|      1|\n",
            "|    118|           84|45.8| 31|      1|\n",
            "|    107|           74|29.6| 31|      1|\n",
            "|    103|           30|43.3| 33|      0|\n",
            "|    115|           70|34.6| 32|      1|\n",
            "+-------+-------------+----+---+-------+\n",
            "only showing top 20 rows\n",
            "\n"
          ],
          "name": "stdout"
        }
      ]
    },
    {
      "cell_type": "markdown",
      "metadata": {
        "id": "pL3opWABI1qB"
      },
      "source": [
        ""
      ]
    },
    {
      "cell_type": "markdown",
      "metadata": {
        "id": "5m6VmE80FGmp"
      },
      "source": [
        "Features Convert into Vector"
      ]
    },
    {
      "cell_type": "code",
      "metadata": {
        "colab": {
          "base_uri": "https://localhost:8080/"
        },
        "id": "T7U2BvAuFDnV",
        "outputId": "4ca745d5-cf43-4159-f469-470b3cb45033"
      },
      "source": [
        "# Assemble all the features with VectorAssembler\n",
        "required_features = ['Glucose','BloodPressure','BMI','Age']\n",
        "\n",
        "from pyspark.ml.feature import VectorAssembler\n",
        "\n",
        "assembler = VectorAssembler(inputCols=required_features, outputCol='features')\n",
        "\n",
        "transformed_data = assembler.transform(dataset_final)\n",
        "transformed_data.show()"
      ],
      "execution_count": 58,
      "outputs": [
        {
          "output_type": "stream",
          "text": [
            "+-------+-------------+----+---+-------+--------------------+\n",
            "|Glucose|BloodPressure| BMI|Age|Outcome|            features|\n",
            "+-------+-------------+----+---+-------+--------------------+\n",
            "|    148|           72|33.6| 50|      1|[148.0,72.0,33.6,...|\n",
            "|     85|           66|26.6| 31|      0|[85.0,66.0,26.6,3...|\n",
            "|    183|           64|23.3| 32|      1|[183.0,64.0,23.3,...|\n",
            "|     89|           66|28.1| 21|      0|[89.0,66.0,28.1,2...|\n",
            "|    137|           40|43.1| 33|      1|[137.0,40.0,43.1,...|\n",
            "|    116|           74|25.6| 30|      0|[116.0,74.0,25.6,...|\n",
            "|     78|           50|31.0| 26|      1|[78.0,50.0,31.0,2...|\n",
            "|    115|            0|35.3| 29|      0|[115.0,0.0,35.3,2...|\n",
            "|    197|           70|30.5| 53|      1|[197.0,70.0,30.5,...|\n",
            "|    125|           96| 0.0| 54|      1|[125.0,96.0,0.0,5...|\n",
            "|    110|           92|37.6| 30|      0|[110.0,92.0,37.6,...|\n",
            "|    168|           74|38.0| 34|      1|[168.0,74.0,38.0,...|\n",
            "|    139|           80|27.1| 57|      0|[139.0,80.0,27.1,...|\n",
            "|    189|           60|30.1| 59|      1|[189.0,60.0,30.1,...|\n",
            "|    166|           72|25.8| 51|      1|[166.0,72.0,25.8,...|\n",
            "|    100|            0|30.0| 32|      1|[100.0,0.0,30.0,3...|\n",
            "|    118|           84|45.8| 31|      1|[118.0,84.0,45.8,...|\n",
            "|    107|           74|29.6| 31|      1|[107.0,74.0,29.6,...|\n",
            "|    103|           30|43.3| 33|      0|[103.0,30.0,43.3,...|\n",
            "|    115|           70|34.6| 32|      1|[115.0,70.0,34.6,...|\n",
            "+-------+-------------+----+---+-------+--------------------+\n",
            "only showing top 20 rows\n",
            "\n"
          ],
          "name": "stdout"
        }
      ]
    },
    {
      "cell_type": "markdown",
      "metadata": {
        "id": "4o1Y2qsNFMhg"
      },
      "source": [
        "Train and Test Split\n",
        "\n",
        "\n",
        "\n",
        "\n",
        "\n",
        "Randomly split data into train and test sets, and set seed for reproducibility."
      ]
    },
    {
      "cell_type": "code",
      "metadata": {
        "colab": {
          "base_uri": "https://localhost:8080/"
        },
        "id": "NMVRt8MTFJYc",
        "outputId": "35f884b7-5173-4647-fbed-4544044b68be"
      },
      "source": [
        "# Split the data\n",
        "\n",
        "(training_data, test_data) = transformed_data.randomSplit([0.8,0.2], seed =2020)\n",
        "\n",
        "print(\"Training Dataset Count: \" + str(training_data.count()))\n",
        "print(\"Test Dataset Count: \" + str(test_data.count()))"
      ],
      "execution_count": 59,
      "outputs": [
        {
          "output_type": "stream",
          "text": [
            "Training Dataset Count: 620\n",
            "Test Dataset Count: 148\n"
          ],
          "name": "stdout"
        }
      ]
    },
    {
      "cell_type": "markdown",
      "metadata": {
        "id": "pz2Rze8ZFSug"
      },
      "source": [
        "Decision Tree Classifier\n",
        "\n",
        "Decision trees are widely used since they are easy to interpret, handle categorical features, extend to the multiclass classification setting, do not require feature scaling, and are able to capture non-linearities and feature interactions."
      ]
    },
    {
      "cell_type": "code",
      "metadata": {
        "colab": {
          "base_uri": "https://localhost:8080/"
        },
        "id": "wiWAYqmnFPu3",
        "outputId": "f988c6ec-dad2-4bd2-91a8-6f2258aea1e4"
      },
      "source": [
        "from pyspark.ml.classification import DecisionTreeClassifier\n",
        "\n",
        "dt = DecisionTreeClassifier(featuresCol = 'features', labelCol = 'Outcome', maxDepth = 3)\n",
        "\n",
        "dtModel = dt.fit(training_data)\n",
        "\n",
        "dt_predictions = dtModel.transform(test_data)\n",
        "\n",
        "dt_predictions.select('Glucose', 'BloodPressure', 'BMI', 'Age', 'Outcome').show(10)"
      ],
      "execution_count": 60,
      "outputs": [
        {
          "output_type": "stream",
          "text": [
            "+-------+-------------+----+---+-------+\n",
            "|Glucose|BloodPressure| BMI|Age|Outcome|\n",
            "+-------+-------------+----+---+-------+\n",
            "|     57|           80|32.8| 41|      0|\n",
            "|     67|           76|45.3| 46|      0|\n",
            "|     71|           48|20.4| 22|      0|\n",
            "|     71|           78|33.2| 21|      0|\n",
            "|     72|           78|31.6| 38|      0|\n",
            "|     76|           60|32.8| 41|      0|\n",
            "|     78|           50|31.0| 26|      1|\n",
            "|     78|           88|36.9| 21|      0|\n",
            "|     84|           64|35.8| 21|      0|\n",
            "|     84|           82|38.2| 23|      0|\n",
            "+-------+-------------+----+---+-------+\n",
            "only showing top 10 rows\n",
            "\n"
          ],
          "name": "stdout"
        }
      ]
    },
    {
      "cell_type": "markdown",
      "metadata": {
        "id": "I-aFpDIQFfLA"
      },
      "source": [
        "Evaluate our Decision Tree model."
      ]
    },
    {
      "cell_type": "code",
      "metadata": {
        "colab": {
          "base_uri": "https://localhost:8080/"
        },
        "id": "JMjya5rIFZ6u",
        "outputId": "8623d986-c96b-4b5f-936a-0cb0852a6506"
      },
      "source": [
        "from pyspark.ml.evaluation import MulticlassClassificationEvaluator\n",
        "\n",
        "multi_evaluator = MulticlassClassificationEvaluator(labelCol = 'Outcome', metricName = 'accuracy')\n",
        "print('Decision Tree Accuracy:', multi_evaluator.evaluate(dt_predictions))"
      ],
      "execution_count": 61,
      "outputs": [
        {
          "output_type": "stream",
          "text": [
            "Decision Tree Accuracy: 0.7702702702702703\n"
          ],
          "name": "stdout"
        }
      ]
    },
    {
      "cell_type": "markdown",
      "metadata": {
        "id": "LQlxZzJVFnV4"
      },
      "source": [
        "Gradient-boosted Tree classifier Model\n",
        "\n",
        "\n",
        "Gradient boosting is a machine learning technique for regression and classification problems, which produces a prediction model in the form of an ensemble of weak prediction models, typically decision trees. "
      ]
    },
    {
      "cell_type": "code",
      "metadata": {
        "id": "eNl_fdZ4FhUC"
      },
      "source": [
        "from pyspark.ml.classification import GBTClassifier\n",
        "gb = GBTClassifier(labelCol = 'Outcome', featuresCol = 'features')\n",
        "gbModel = gb.fit(training_data)\n",
        "gb_predictions = gbModel.transform(test_data)"
      ],
      "execution_count": 62,
      "outputs": []
    },
    {
      "cell_type": "markdown",
      "metadata": {
        "id": "BI5cHlAQHawB"
      },
      "source": [
        "Evaluate our Gradient-Boosted Tree Classifier."
      ]
    },
    {
      "cell_type": "code",
      "metadata": {
        "colab": {
          "base_uri": "https://localhost:8080/"
        },
        "id": "c5jDh3AzFqlR",
        "outputId": "c2604bb0-58af-42d4-ab5a-7832ebec0ce5"
      },
      "source": [
        "from pyspark.ml.evaluation import MulticlassClassificationEvaluator\n",
        "multi_evaluator = MulticlassClassificationEvaluator(labelCol = 'Outcome', metricName = 'accuracy')\n",
        "print('Gradient-boosted Trees Accuracy:', multi_evaluator.evaluate(gb_predictions))"
      ],
      "execution_count": 63,
      "outputs": [
        {
          "output_type": "stream",
          "text": [
            "Gradient-boosted Trees Accuracy: 0.7567567567567568\n"
          ],
          "name": "stdout"
        }
      ]
    },
    {
      "cell_type": "code",
      "metadata": {
        "id": "eX-CsReHHcwr"
      },
      "source": [
        ""
      ],
      "execution_count": 38,
      "outputs": []
    }
  ]
}